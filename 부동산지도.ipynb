{
 "cells": [
  {
   "cell_type": "code",
   "execution_count": 33,
   "metadata": {},
   "outputs": [],
   "source": [
    "import pandas as pd\n",
    "import numpy as np"
   ]
  },
  {
   "cell_type": "code",
   "execution_count": 71,
   "metadata": {},
   "outputs": [
    {
     "data": {
      "text/html": [
       "<div>\n",
       "<style scoped>\n",
       "    .dataframe tbody tr th:only-of-type {\n",
       "        vertical-align: middle;\n",
       "    }\n",
       "\n",
       "    .dataframe tbody tr th {\n",
       "        vertical-align: top;\n",
       "    }\n",
       "\n",
       "    .dataframe thead th {\n",
       "        text-align: right;\n",
       "    }\n",
       "</style>\n",
       "<table border=\"1\" class=\"dataframe\">\n",
       "  <thead>\n",
       "    <tr style=\"text-align: right;\">\n",
       "      <th></th>\n",
       "      <th>BJDONG_NM</th>\n",
       "      <th>ADDRESS</th>\n",
       "      <th>RA_REGNO</th>\n",
       "      <th>CMP_NM</th>\n",
       "      <th>위도</th>\n",
       "      <th>경도</th>\n",
       "    </tr>\n",
       "  </thead>\n",
       "  <tbody>\n",
       "    <tr>\n",
       "      <th>0</th>\n",
       "      <td>신도림동</td>\n",
       "      <td>서울특별시 구로구 경인로 661</td>\n",
       "      <td>11500-2022-00106</td>\n",
       "      <td>라빌공인중개사사무소</td>\n",
       "      <td>37.509662</td>\n",
       "      <td>126.887986</td>\n",
       "    </tr>\n",
       "    <tr>\n",
       "      <th>1</th>\n",
       "      <td>구로동</td>\n",
       "      <td>서울특별시 구로구 디지털로33길 11</td>\n",
       "      <td>11530-2023-00039</td>\n",
       "      <td>타워공인중개사사무소</td>\n",
       "      <td>37.485706</td>\n",
       "      <td>126.895513</td>\n",
       "    </tr>\n",
       "    <tr>\n",
       "      <th>2</th>\n",
       "      <td>구로동</td>\n",
       "      <td>서울특별시 구로구 구로동로 117</td>\n",
       "      <td>41190-2022-00036</td>\n",
       "      <td>아라공인중개사사무소</td>\n",
       "      <td>37.489029</td>\n",
       "      <td>126.884238</td>\n",
       "    </tr>\n",
       "    <tr>\n",
       "      <th>3</th>\n",
       "      <td>구로동</td>\n",
       "      <td>서울특별시 구로구 도림로3길 3</td>\n",
       "      <td>11530-2023-00041</td>\n",
       "      <td>한중공인중개사사무소</td>\n",
       "      <td>37.485518</td>\n",
       "      <td>126.886343</td>\n",
       "    </tr>\n",
       "    <tr>\n",
       "      <th>4</th>\n",
       "      <td>구로동</td>\n",
       "      <td>서울특별시 구로구 새말로 31</td>\n",
       "      <td>92420000-977</td>\n",
       "      <td>롯데공인중개사사무소</td>\n",
       "      <td>37.504381</td>\n",
       "      <td>126.884825</td>\n",
       "    </tr>\n",
       "    <tr>\n",
       "      <th>...</th>\n",
       "      <td>...</td>\n",
       "      <td>...</td>\n",
       "      <td>...</td>\n",
       "      <td>...</td>\n",
       "      <td>...</td>\n",
       "      <td>...</td>\n",
       "    </tr>\n",
       "    <tr>\n",
       "      <th>26602</th>\n",
       "      <td>서교동</td>\n",
       "      <td>서울특별시 마포구 월드컵로10길 13</td>\n",
       "      <td>11440-2015-00119</td>\n",
       "      <td>리치공인중개사사무소</td>\n",
       "      <td>37.554727</td>\n",
       "      <td>126.912433</td>\n",
       "    </tr>\n",
       "    <tr>\n",
       "      <th>26603</th>\n",
       "      <td>신수동</td>\n",
       "      <td>서울특별시 마포구 독막로 240</td>\n",
       "      <td>92380000-4891</td>\n",
       "      <td>성원부동산공인중개사사무소</td>\n",
       "      <td>37.546660</td>\n",
       "      <td>126.940093</td>\n",
       "    </tr>\n",
       "    <tr>\n",
       "      <th>26604</th>\n",
       "      <td>노고산동</td>\n",
       "      <td>서울특별시 마포구 신촌로 150</td>\n",
       "      <td>92380000-4894</td>\n",
       "      <td>포스빌부동산공인중개사사무소</td>\n",
       "      <td>37.556264</td>\n",
       "      <td>126.942122</td>\n",
       "    </tr>\n",
       "    <tr>\n",
       "      <th>26605</th>\n",
       "      <td>공덕동</td>\n",
       "      <td>서울특별시 마포구 마포대로7길 33</td>\n",
       "      <td>92380000-4906</td>\n",
       "      <td>굿모닝부동산공인중개사사무소</td>\n",
       "      <td>37.547609</td>\n",
       "      <td>126.951568</td>\n",
       "    </tr>\n",
       "    <tr>\n",
       "      <th>26606</th>\n",
       "      <td>상암동</td>\n",
       "      <td>서울특별시 마포구 상암산로1길 96</td>\n",
       "      <td>92380000-4959</td>\n",
       "      <td>월드컵파크공인중개사사무소</td>\n",
       "      <td>37.581411</td>\n",
       "      <td>126.881235</td>\n",
       "    </tr>\n",
       "  </tbody>\n",
       "</table>\n",
       "<p>26607 rows × 6 columns</p>\n",
       "</div>"
      ],
      "text/plain": [
       "      BJDONG_NM               ADDRESS          RA_REGNO          CMP_NM  \\\n",
       "0          신도림동     서울특별시 구로구 경인로 661  11500-2022-00106      라빌공인중개사사무소   \n",
       "1           구로동  서울특별시 구로구 디지털로33길 11  11530-2023-00039      타워공인중개사사무소   \n",
       "2           구로동    서울특별시 구로구 구로동로 117  41190-2022-00036      아라공인중개사사무소   \n",
       "3           구로동     서울특별시 구로구 도림로3길 3  11530-2023-00041      한중공인중개사사무소   \n",
       "4           구로동      서울특별시 구로구 새말로 31      92420000-977      롯데공인중개사사무소   \n",
       "...         ...                   ...               ...             ...   \n",
       "26602       서교동  서울특별시 마포구 월드컵로10길 13  11440-2015-00119      리치공인중개사사무소   \n",
       "26603       신수동     서울특별시 마포구 독막로 240     92380000-4891   성원부동산공인중개사사무소   \n",
       "26604      노고산동     서울특별시 마포구 신촌로 150     92380000-4894  포스빌부동산공인중개사사무소   \n",
       "26605       공덕동   서울특별시 마포구 마포대로7길 33     92380000-4906  굿모닝부동산공인중개사사무소   \n",
       "26606       상암동   서울특별시 마포구 상암산로1길 96     92380000-4959   월드컵파크공인중개사사무소   \n",
       "\n",
       "              위도          경도  \n",
       "0      37.509662  126.887986  \n",
       "1      37.485706  126.895513  \n",
       "2      37.489029  126.884238  \n",
       "3      37.485518  126.886343  \n",
       "4      37.504381  126.884825  \n",
       "...          ...         ...  \n",
       "26602  37.554727  126.912433  \n",
       "26603  37.546660  126.940093  \n",
       "26604  37.556264  126.942122  \n",
       "26605  37.547609  126.951568  \n",
       "26606  37.581411  126.881235  \n",
       "\n",
       "[26607 rows x 6 columns]"
      ]
     },
     "execution_count": 71,
     "metadata": {},
     "output_type": "execute_result"
    }
   ],
   "source": [
    "df = pd.read_csv('data/서울부동산.csv')\n",
    "df"
   ]
  },
  {
   "cell_type": "code",
   "execution_count": 74,
   "metadata": {},
   "outputs": [
    {
     "data": {
      "text/plain": [
       "0         True\n",
       "1        False\n",
       "2        False\n",
       "3        False\n",
       "4        False\n",
       "         ...  \n",
       "26602    False\n",
       "26603    False\n",
       "26604    False\n",
       "26605    False\n",
       "26606    False\n",
       "Name: BJDONG_NM, Length: 26607, dtype: bool"
      ]
     },
     "execution_count": 74,
     "metadata": {},
     "output_type": "execute_result"
    }
   ],
   "source": [
    "df.BJDONG_NM == '신도림동'"
   ]
  },
  {
   "cell_type": "code",
   "execution_count": 59,
   "metadata": {},
   "outputs": [
    {
     "name": "stdout",
     "output_type": "stream",
     "text": [
      "(26607, 1) 431\n"
     ]
    }
   ],
   "source": [
    "# 중복 제외한 값\n",
    "dg = df[['BJDONG_NM']]\n",
    "print(dg.shape, dg.BJDONG_NM.nunique())"
   ]
  },
  {
   "cell_type": "code",
   "execution_count": 60,
   "metadata": {},
   "outputs": [
    {
     "name": "stderr",
     "output_type": "stream",
     "text": [
      "C:\\Users\\human\\AppData\\Local\\Temp\\ipykernel_12268\\3187376684.py:2: SettingWithCopyWarning: \n",
      "A value is trying to be set on a copy of a slice from a DataFrame\n",
      "\n",
      "See the caveats in the documentation: https://pandas.pydata.org/pandas-docs/stable/user_guide/indexing.html#returning-a-view-versus-a-copy\n",
      "  dg.drop_duplicates(subset=['BJDONG_NM'], inplace=True)\n"
     ]
    },
    {
     "data": {
      "text/plain": [
       "(432, 1)"
      ]
     },
     "execution_count": 60,
     "metadata": {},
     "output_type": "execute_result"
    }
   ],
   "source": [
    "# 중복제거\n",
    "dg.drop_duplicates(subset=['BJDONG_NM'], inplace=True)\n",
    "dg.shape"
   ]
  },
  {
   "cell_type": "code",
   "execution_count": 61,
   "metadata": {},
   "outputs": [
    {
     "data": {
      "text/html": [
       "<div>\n",
       "<style scoped>\n",
       "    .dataframe tbody tr th:only-of-type {\n",
       "        vertical-align: middle;\n",
       "    }\n",
       "\n",
       "    .dataframe tbody tr th {\n",
       "        vertical-align: top;\n",
       "    }\n",
       "\n",
       "    .dataframe thead th {\n",
       "        text-align: right;\n",
       "    }\n",
       "</style>\n",
       "<table border=\"1\" class=\"dataframe\">\n",
       "  <thead>\n",
       "    <tr style=\"text-align: right;\">\n",
       "      <th></th>\n",
       "      <th>index</th>\n",
       "      <th>BJDONG_NM</th>\n",
       "    </tr>\n",
       "  </thead>\n",
       "  <tbody>\n",
       "    <tr>\n",
       "      <th>0</th>\n",
       "      <td>0</td>\n",
       "      <td>신도림동</td>\n",
       "    </tr>\n",
       "    <tr>\n",
       "      <th>1</th>\n",
       "      <td>1</td>\n",
       "      <td>구로동</td>\n",
       "    </tr>\n",
       "    <tr>\n",
       "      <th>2</th>\n",
       "      <td>5</td>\n",
       "      <td>가리봉동</td>\n",
       "    </tr>\n",
       "    <tr>\n",
       "      <th>3</th>\n",
       "      <td>13</td>\n",
       "      <td>온수동</td>\n",
       "    </tr>\n",
       "    <tr>\n",
       "      <th>4</th>\n",
       "      <td>18</td>\n",
       "      <td>궁동</td>\n",
       "    </tr>\n",
       "    <tr>\n",
       "      <th>...</th>\n",
       "      <td>...</td>\n",
       "      <td>...</td>\n",
       "    </tr>\n",
       "    <tr>\n",
       "      <th>427</th>\n",
       "      <td>21548</td>\n",
       "      <td>용산동4가</td>\n",
       "    </tr>\n",
       "    <tr>\n",
       "      <th>428</th>\n",
       "      <td>21746</td>\n",
       "      <td>미근동</td>\n",
       "    </tr>\n",
       "    <tr>\n",
       "      <th>429</th>\n",
       "      <td>21968</td>\n",
       "      <td>원지동</td>\n",
       "    </tr>\n",
       "    <tr>\n",
       "      <th>430</th>\n",
       "      <td>22133</td>\n",
       "      <td>동소문동2가</td>\n",
       "    </tr>\n",
       "    <tr>\n",
       "      <th>431</th>\n",
       "      <td>25761</td>\n",
       "      <td>외발산동</td>\n",
       "    </tr>\n",
       "  </tbody>\n",
       "</table>\n",
       "<p>432 rows × 2 columns</p>\n",
       "</div>"
      ],
      "text/plain": [
       "     index BJDONG_NM\n",
       "0        0      신도림동\n",
       "1        1       구로동\n",
       "2        5      가리봉동\n",
       "3       13       온수동\n",
       "4       18        궁동\n",
       "..     ...       ...\n",
       "427  21548     용산동4가\n",
       "428  21746       미근동\n",
       "429  21968       원지동\n",
       "430  22133    동소문동2가\n",
       "431  25761      외발산동\n",
       "\n",
       "[432 rows x 2 columns]"
      ]
     },
     "execution_count": 61,
     "metadata": {},
     "output_type": "execute_result"
    }
   ],
   "source": [
    "# 인덱스 리셋\n",
    "dg = dg.reset_index()\n",
    "dg"
   ]
  },
  {
   "cell_type": "code",
   "execution_count": 63,
   "metadata": {},
   "outputs": [],
   "source": [
    "list_dg = dg['BJDONG_NM']"
   ]
  },
  {
   "cell_type": "code",
   "execution_count": 81,
   "metadata": {},
   "outputs": [
    {
     "data": {
      "text/plain": [
       "'구로동'"
      ]
     },
     "execution_count": 81,
     "metadata": {},
     "output_type": "execute_result"
    }
   ],
   "source": [
    "# 확인\n",
    "list_dg[1]"
   ]
  },
  {
   "cell_type": "code",
   "execution_count": 49,
   "metadata": {},
   "outputs": [
    {
     "data": {
      "text/plain": [
       "0        37.509662\n",
       "8        37.506854\n",
       "9        37.507689\n",
       "10       37.504625\n",
       "11       37.506163\n",
       "           ...    \n",
       "15002    37.508544\n",
       "15004    37.514081\n",
       "15409    37.512158\n",
       "16426    37.507721\n",
       "24704    37.481440\n",
       "Name: 위도, Length: 67, dtype: float64"
      ]
     },
     "execution_count": 49,
     "metadata": {},
     "output_type": "execute_result"
    }
   ],
   "source": [
    "input = df[df.BJDONG_NM == list_dg[0]]\n",
    "input.위도"
   ]
  },
  {
   "cell_type": "code",
   "execution_count": 52,
   "metadata": {},
   "outputs": [],
   "source": [
    "lat = []\n",
    "lng = []\n",
    "for i in list_dg.index:\n",
    "    input = df[df.BJDONG_NM == list_dg[i]]\n",
    "    lat.append(input.위도)\n",
    "    lng.append(input.경도)"
   ]
  },
  {
   "cell_type": "code",
   "execution_count": 82,
   "metadata": {},
   "outputs": [
    {
     "data": {
      "text/plain": [
       "381"
      ]
     },
     "execution_count": 82,
     "metadata": {},
     "output_type": "execute_result"
    }
   ],
   "source": [
    "len(lat[1])"
   ]
  },
  {
   "cell_type": "code",
   "execution_count": 83,
   "metadata": {},
   "outputs": [
    {
     "data": {
      "text/plain": [
       "381"
      ]
     },
     "execution_count": 83,
     "metadata": {},
     "output_type": "execute_result"
    }
   ],
   "source": [
    "a = []\n",
    "for i in df.index:\n",
    "    if (df.BJDONG_NM[i] == '구로동'):\n",
    "        a.append(df.BJDONG_NM[i])\n",
    "    else:\n",
    "        pass\n",
    "len(a)"
   ]
  },
  {
   "cell_type": "code",
   "execution_count": 86,
   "metadata": {},
   "outputs": [
    {
     "data": {
      "text/plain": [
       "'신도림동'"
      ]
     },
     "execution_count": 86,
     "metadata": {},
     "output_type": "execute_result"
    }
   ],
   "source": [
    "list_dg[0]"
   ]
  },
  {
   "cell_type": "code",
   "execution_count": 87,
   "metadata": {},
   "outputs": [
    {
     "data": {
      "text/plain": [
       "0        37.509662\n",
       "8        37.506854\n",
       "9        37.507689\n",
       "10       37.504625\n",
       "11       37.506163\n",
       "           ...    \n",
       "15002    37.508544\n",
       "15004    37.514081\n",
       "15409    37.512158\n",
       "16426    37.507721\n",
       "24704    37.481440\n",
       "Name: 위도, Length: 67, dtype: float64"
      ]
     },
     "execution_count": 87,
     "metadata": {},
     "output_type": "execute_result"
    }
   ],
   "source": [
    "lat[0]"
   ]
  }
 ],
 "metadata": {
  "kernelspec": {
   "display_name": "base",
   "language": "python",
   "name": "python3"
  },
  "language_info": {
   "codemirror_mode": {
    "name": "ipython",
    "version": 3
   },
   "file_extension": ".py",
   "mimetype": "text/x-python",
   "name": "python",
   "nbconvert_exporter": "python",
   "pygments_lexer": "ipython3",
   "version": "3.11.4"
  }
 },
 "nbformat": 4,
 "nbformat_minor": 2
}
