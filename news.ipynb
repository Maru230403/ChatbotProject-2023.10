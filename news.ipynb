{
 "cells": [
  {
   "cell_type": "code",
   "execution_count": 151,
   "metadata": {},
   "outputs": [],
   "source": [
    "import time\n",
    "from selenium import webdriver\n",
    "from selenium.webdriver.common.by import By\n",
    "from bs4 import BeautifulSoup\n",
    "import pandas as pd\n"
   ]
  },
  {
   "cell_type": "code",
   "execution_count": 152,
   "metadata": {},
   "outputs": [],
   "source": [
    "base_url = 'https://news.naver.com/'\n",
    "suffix_url = 'main/list.naver?mode=LS2D&mid=shm&sid1=101&sid2=260'"
   ]
  },
  {
   "cell_type": "code",
   "execution_count": 166,
   "metadata": {},
   "outputs": [
    {
     "name": "stderr",
     "output_type": "stream",
     "text": [
      "The chromedriver version (117.0.5938.88) detected in PATH at C:\\Users\\human\\Downloads\\chromedriver.exe might not be compatible with the detected chrome version (118.0.5993.118); currently, chromedriver 118.0.5993.70 is recommended for chrome 118.*, so it is advised to delete the driver in PATH and retry\n"
     ]
    }
   ],
   "source": [
    "driver = webdriver.Chrome()\n",
    "driver.get(url)"
   ]
  },
  {
   "cell_type": "code",
   "execution_count": 165,
   "metadata": {},
   "outputs": [
    {
     "data": {
      "text/plain": [
       "10"
      ]
     },
     "execution_count": 165,
     "metadata": {},
     "output_type": "execute_result"
    }
   ],
   "source": [
    "soup = BeautifulSoup(driver.page_source, 'html.parser')\n",
    "lis = soup.select('.type06_headline > li')\n",
    "len(lis)"
   ]
  },
  {
   "cell_type": "code",
   "execution_count": 176,
   "metadata": {},
   "outputs": [
    {
     "ename": "AttributeError",
     "evalue": "'list' object has no attribute 'select'",
     "output_type": "error",
     "traceback": [
      "\u001b[1;31m---------------------------------------------------------------------------\u001b[0m",
      "\u001b[1;31mAttributeError\u001b[0m                            Traceback (most recent call last)",
      "\u001b[1;32md:\\WorkSpace\\ChatbotProject-2023.10\\news.ipynb 셀 5\u001b[0m line \u001b[0;36m2\n\u001b[0;32m      <a href='vscode-notebook-cell:/d%3A/WorkSpace/ChatbotProject-2023.10/news.ipynb#W3sZmlsZQ%3D%3D?line=0'>1</a>\u001b[0m li \u001b[39m=\u001b[39m lis[:\u001b[39m3\u001b[39m]\n\u001b[1;32m----> <a href='vscode-notebook-cell:/d%3A/WorkSpace/ChatbotProject-2023.10/news.ipynb#W3sZmlsZQ%3D%3D?line=1'>2</a>\u001b[0m title \u001b[39m=\u001b[39m li\u001b[39m.\u001b[39mselect(\u001b[39m'\u001b[39m\u001b[39m#main_content > div.list_body.newsflash_body > ul.type06_headline > li:nth-child(1)\u001b[39m\u001b[39m'\u001b[39m)\n\u001b[0;32m      <a href='vscode-notebook-cell:/d%3A/WorkSpace/ChatbotProject-2023.10/news.ipynb#W3sZmlsZQ%3D%3D?line=2'>3</a>\u001b[0m title \u001b[39m=\u001b[39m \u001b[39m'\u001b[39m\u001b[39m'\u001b[39m\n\u001b[0;32m      <a href='vscode-notebook-cell:/d%3A/WorkSpace/ChatbotProject-2023.10/news.ipynb#W3sZmlsZQ%3D%3D?line=3'>4</a>\u001b[0m \u001b[39mfor\u001b[39;00m li \u001b[39min\u001b[39;00m lis:\n",
      "\u001b[1;31mAttributeError\u001b[0m: 'list' object has no attribute 'select'"
     ]
    }
   ],
   "source": [
    "li = lis[0]\n",
    "title = li.select_one('#main_content > div.list_body.newsflash_body > ul.type06_headline > li:nth-child(1)')\n",
    "title = ''\n",
    "for li in lis:\n",
    "    text = li.get_text().strip()\n",
    "    if text == '\\u200b' or text == '':\n",
    "        continue\n",
    "    title += text + '\\n'\n",
    "title"
   ]
  },
  {
   "cell_type": "code",
   "execution_count": 180,
   "metadata": {},
   "outputs": [
    {
     "data": {
      "text/plain": [
       "[{'title': '국토부, 2023 한국건축문화대상에 총 45명 선정',\n",
       "  'link': 'https://n.news.naver.com/mnews/article/029/0002833650?sid=101'},\n",
       " {'title': \"둔촌주공 추가 공사비 '10% 삭감' 합의안 유력…조합원 부담금 1.2억→1억 이하로[집슐랭]\",\n",
       "  'link': 'https://n.news.naver.com/mnews/article/011/0004255255?sid=101'},\n",
       " {'title': '강원 원주에서 분양 순항 중인 ‘e편한세상 원주 프리모원’',\n",
       "  'link': 'https://n.news.naver.com/mnews/article/015/0004908139?sid=101'}]"
      ]
     },
     "execution_count": 180,
     "metadata": {},
     "output_type": "execute_result"
    }
   ],
   "source": [
    "latest_news = []\n",
    "lis = soup.select('.type06_headline > li')[:3]  # 처음 3개 요소만 선택\n",
    "for li in lis:\n",
    "    title_element = li.select_one('dl > dt:nth-of-type(2) > a')\n",
    "    if title_element:\n",
    "        title = title_element.text.strip()\n",
    "        link = title_element['href']\n",
    "        latest_news.append({\"title\": title, \"link\": link})\n",
    "latest_news"
   ]
  },
  {
   "cell_type": "code",
   "execution_count": 157,
   "metadata": {},
   "outputs": [
    {
     "data": {
      "text/html": [
       "<div>\n",
       "<style scoped>\n",
       "    .dataframe tbody tr th:only-of-type {\n",
       "        vertical-align: middle;\n",
       "    }\n",
       "\n",
       "    .dataframe tbody tr th {\n",
       "        vertical-align: top;\n",
       "    }\n",
       "\n",
       "    .dataframe thead th {\n",
       "        text-align: right;\n",
       "    }\n",
       "</style>\n",
       "<table border=\"1\" class=\"dataframe\">\n",
       "  <thead>\n",
       "    <tr style=\"text-align: right;\">\n",
       "      <th></th>\n",
       "      <th>title</th>\n",
       "    </tr>\n",
       "  </thead>\n",
       "  <tbody>\n",
       "    <tr>\n",
       "      <th>0</th>\n",
       "      <td>GH, 평택고덕·화성동탄2 단독주택용지 146필지 공급</td>\n",
       "    </tr>\n",
       "    <tr>\n",
       "      <th>1</th>\n",
       "      <td>GH, 평택고덕·화성동탄2 단독주택용지 146필지 공급</td>\n",
       "    </tr>\n",
       "    <tr>\n",
       "      <th>2</th>\n",
       "      <td>GH, 평택고덕·화성동탄2 단독주택용지 146필지 공급</td>\n",
       "    </tr>\n",
       "  </tbody>\n",
       "</table>\n",
       "</div>"
      ],
      "text/plain": [
       "                            title\n",
       "0  GH, 평택고덕·화성동탄2 단독주택용지 146필지 공급\n",
       "1  GH, 평택고덕·화성동탄2 단독주택용지 146필지 공급\n",
       "2  GH, 평택고덕·화성동탄2 단독주택용지 146필지 공급"
      ]
     },
     "execution_count": 157,
     "metadata": {},
     "output_type": "execute_result"
    }
   ],
   "source": [
    "df.to_csv('data/news.csv', index=False)\n",
    "df"
   ]
  },
  {
   "cell_type": "code",
   "execution_count": 158,
   "metadata": {},
   "outputs": [],
   "source": [
    "#main_content > div.list_body.newsflash_body > ul.type06_headline > li:nth-child(1) > dl > dt:nth-child(2) > a"
   ]
  }
 ],
 "metadata": {
  "kernelspec": {
   "display_name": "base",
   "language": "python",
   "name": "python3"
  },
  "language_info": {
   "codemirror_mode": {
    "name": "ipython",
    "version": 3
   },
   "file_extension": ".py",
   "mimetype": "text/x-python",
   "name": "python",
   "nbconvert_exporter": "python",
   "pygments_lexer": "ipython3",
   "version": "3.11.4"
  }
 },
 "nbformat": 4,
 "nbformat_minor": 2
}
