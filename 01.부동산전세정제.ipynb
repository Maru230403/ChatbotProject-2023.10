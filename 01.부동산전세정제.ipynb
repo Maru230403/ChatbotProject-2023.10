{
 "cells": [
  {
   "cell_type": "code",
   "execution_count": 25,
   "metadata": {},
   "outputs": [],
   "source": [
    "import nltk\n",
    "from nltk.tokenize import word_tokenize\n",
    "from nltk.tokenize import WordPunctTokenizer\n",
    "import pandas as pd"
   ]
  },
  {
   "cell_type": "code",
   "execution_count": 27,
   "metadata": {},
   "outputs": [
    {
     "ename": "ParserError",
     "evalue": "Error tokenizing data. C error: Expected 3 fields in line 175, saw 5\n",
     "output_type": "error",
     "traceback": [
      "\u001b[1;31m---------------------------------------------------------------------------\u001b[0m",
      "\u001b[1;31mParserError\u001b[0m                               Traceback (most recent call last)",
      "\u001b[1;32md:\\WorkSpace\\ChatbotProject-2023.10\\01.부동산전세정제.ipynb 셀 2\u001b[0m line \u001b[0;36m1\n\u001b[1;32m----> <a href='vscode-notebook-cell:/d%3A/WorkSpace/ChatbotProject-2023.10/01.%EB%B6%80%EB%8F%99%EC%82%B0%EC%A0%84%EC%84%B8%EC%A0%95%EC%A0%9C.ipynb#W1sZmlsZQ%3D%3D?line=0'>1</a>\u001b[0m df \u001b[39m=\u001b[39m pd\u001b[39m.\u001b[39mread_csv(\u001b[39m'\u001b[39m\u001b[39mdata/부동산전세up.csv\u001b[39m\u001b[39m'\u001b[39m)\n",
      "File \u001b[1;32mc:\\Users\\human\\anaconda3\\Lib\\site-packages\\pandas\\util\\_decorators.py:211\u001b[0m, in \u001b[0;36mdeprecate_kwarg.<locals>._deprecate_kwarg.<locals>.wrapper\u001b[1;34m(*args, **kwargs)\u001b[0m\n\u001b[0;32m    209\u001b[0m     \u001b[39melse\u001b[39;00m:\n\u001b[0;32m    210\u001b[0m         kwargs[new_arg_name] \u001b[39m=\u001b[39m new_arg_value\n\u001b[1;32m--> 211\u001b[0m \u001b[39mreturn\u001b[39;00m func(\u001b[39m*\u001b[39margs, \u001b[39m*\u001b[39m\u001b[39m*\u001b[39mkwargs)\n",
      "File \u001b[1;32mc:\\Users\\human\\anaconda3\\Lib\\site-packages\\pandas\\util\\_decorators.py:331\u001b[0m, in \u001b[0;36mdeprecate_nonkeyword_arguments.<locals>.decorate.<locals>.wrapper\u001b[1;34m(*args, **kwargs)\u001b[0m\n\u001b[0;32m    325\u001b[0m \u001b[39mif\u001b[39;00m \u001b[39mlen\u001b[39m(args) \u001b[39m>\u001b[39m num_allow_args:\n\u001b[0;32m    326\u001b[0m     warnings\u001b[39m.\u001b[39mwarn(\n\u001b[0;32m    327\u001b[0m         msg\u001b[39m.\u001b[39mformat(arguments\u001b[39m=\u001b[39m_format_argument_list(allow_args)),\n\u001b[0;32m    328\u001b[0m         \u001b[39mFutureWarning\u001b[39;00m,\n\u001b[0;32m    329\u001b[0m         stacklevel\u001b[39m=\u001b[39mfind_stack_level(),\n\u001b[0;32m    330\u001b[0m     )\n\u001b[1;32m--> 331\u001b[0m \u001b[39mreturn\u001b[39;00m func(\u001b[39m*\u001b[39margs, \u001b[39m*\u001b[39m\u001b[39m*\u001b[39mkwargs)\n",
      "File \u001b[1;32mc:\\Users\\human\\anaconda3\\Lib\\site-packages\\pandas\\io\\parsers\\readers.py:950\u001b[0m, in \u001b[0;36mread_csv\u001b[1;34m(filepath_or_buffer, sep, delimiter, header, names, index_col, usecols, squeeze, prefix, mangle_dupe_cols, dtype, engine, converters, true_values, false_values, skipinitialspace, skiprows, skipfooter, nrows, na_values, keep_default_na, na_filter, verbose, skip_blank_lines, parse_dates, infer_datetime_format, keep_date_col, date_parser, dayfirst, cache_dates, iterator, chunksize, compression, thousands, decimal, lineterminator, quotechar, quoting, doublequote, escapechar, comment, encoding, encoding_errors, dialect, error_bad_lines, warn_bad_lines, on_bad_lines, delim_whitespace, low_memory, memory_map, float_precision, storage_options)\u001b[0m\n\u001b[0;32m    935\u001b[0m kwds_defaults \u001b[39m=\u001b[39m _refine_defaults_read(\n\u001b[0;32m    936\u001b[0m     dialect,\n\u001b[0;32m    937\u001b[0m     delimiter,\n\u001b[1;32m   (...)\u001b[0m\n\u001b[0;32m    946\u001b[0m     defaults\u001b[39m=\u001b[39m{\u001b[39m\"\u001b[39m\u001b[39mdelimiter\u001b[39m\u001b[39m\"\u001b[39m: \u001b[39m\"\u001b[39m\u001b[39m,\u001b[39m\u001b[39m\"\u001b[39m},\n\u001b[0;32m    947\u001b[0m )\n\u001b[0;32m    948\u001b[0m kwds\u001b[39m.\u001b[39mupdate(kwds_defaults)\n\u001b[1;32m--> 950\u001b[0m \u001b[39mreturn\u001b[39;00m _read(filepath_or_buffer, kwds)\n",
      "File \u001b[1;32mc:\\Users\\human\\anaconda3\\Lib\\site-packages\\pandas\\io\\parsers\\readers.py:611\u001b[0m, in \u001b[0;36m_read\u001b[1;34m(filepath_or_buffer, kwds)\u001b[0m\n\u001b[0;32m    608\u001b[0m     \u001b[39mreturn\u001b[39;00m parser\n\u001b[0;32m    610\u001b[0m \u001b[39mwith\u001b[39;00m parser:\n\u001b[1;32m--> 611\u001b[0m     \u001b[39mreturn\u001b[39;00m parser\u001b[39m.\u001b[39mread(nrows)\n",
      "File \u001b[1;32mc:\\Users\\human\\anaconda3\\Lib\\site-packages\\pandas\\io\\parsers\\readers.py:1778\u001b[0m, in \u001b[0;36mTextFileReader.read\u001b[1;34m(self, nrows)\u001b[0m\n\u001b[0;32m   1771\u001b[0m nrows \u001b[39m=\u001b[39m validate_integer(\u001b[39m\"\u001b[39m\u001b[39mnrows\u001b[39m\u001b[39m\"\u001b[39m, nrows)\n\u001b[0;32m   1772\u001b[0m \u001b[39mtry\u001b[39;00m:\n\u001b[0;32m   1773\u001b[0m     \u001b[39m# error: \"ParserBase\" has no attribute \"read\"\u001b[39;00m\n\u001b[0;32m   1774\u001b[0m     (\n\u001b[0;32m   1775\u001b[0m         index,\n\u001b[0;32m   1776\u001b[0m         columns,\n\u001b[0;32m   1777\u001b[0m         col_dict,\n\u001b[1;32m-> 1778\u001b[0m     ) \u001b[39m=\u001b[39m \u001b[39mself\u001b[39m\u001b[39m.\u001b[39m_engine\u001b[39m.\u001b[39mread(  \u001b[39m# type: ignore[attr-defined]\u001b[39;00m\n\u001b[0;32m   1779\u001b[0m         nrows\n\u001b[0;32m   1780\u001b[0m     )\n\u001b[0;32m   1781\u001b[0m \u001b[39mexcept\u001b[39;00m \u001b[39mException\u001b[39;00m:\n\u001b[0;32m   1782\u001b[0m     \u001b[39mself\u001b[39m\u001b[39m.\u001b[39mclose()\n",
      "File \u001b[1;32mc:\\Users\\human\\anaconda3\\Lib\\site-packages\\pandas\\io\\parsers\\c_parser_wrapper.py:230\u001b[0m, in \u001b[0;36mCParserWrapper.read\u001b[1;34m(self, nrows)\u001b[0m\n\u001b[0;32m    228\u001b[0m \u001b[39mtry\u001b[39;00m:\n\u001b[0;32m    229\u001b[0m     \u001b[39mif\u001b[39;00m \u001b[39mself\u001b[39m\u001b[39m.\u001b[39mlow_memory:\n\u001b[1;32m--> 230\u001b[0m         chunks \u001b[39m=\u001b[39m \u001b[39mself\u001b[39m\u001b[39m.\u001b[39m_reader\u001b[39m.\u001b[39mread_low_memory(nrows)\n\u001b[0;32m    231\u001b[0m         \u001b[39m# destructive to chunks\u001b[39;00m\n\u001b[0;32m    232\u001b[0m         data \u001b[39m=\u001b[39m _concatenate_chunks(chunks)\n",
      "File \u001b[1;32mc:\\Users\\human\\anaconda3\\Lib\\site-packages\\pandas\\_libs\\parsers.pyx:808\u001b[0m, in \u001b[0;36mpandas._libs.parsers.TextReader.read_low_memory\u001b[1;34m()\u001b[0m\n",
      "File \u001b[1;32mc:\\Users\\human\\anaconda3\\Lib\\site-packages\\pandas\\_libs\\parsers.pyx:866\u001b[0m, in \u001b[0;36mpandas._libs.parsers.TextReader._read_rows\u001b[1;34m()\u001b[0m\n",
      "File \u001b[1;32mc:\\Users\\human\\anaconda3\\Lib\\site-packages\\pandas\\_libs\\parsers.pyx:852\u001b[0m, in \u001b[0;36mpandas._libs.parsers.TextReader._tokenize_rows\u001b[1;34m()\u001b[0m\n",
      "File \u001b[1;32mc:\\Users\\human\\anaconda3\\Lib\\site-packages\\pandas\\_libs\\parsers.pyx:1973\u001b[0m, in \u001b[0;36mpandas._libs.parsers.raise_parser_error\u001b[1;34m()\u001b[0m\n",
      "\u001b[1;31mParserError\u001b[0m: Error tokenizing data. C error: Expected 3 fields in line 175, saw 5\n"
     ]
    }
   ],
   "source": [
    "df = pd.read_csv('data/부동산전세up.csv')"
   ]
  },
  {
   "cell_type": "code",
   "execution_count": 8,
   "metadata": {},
   "outputs": [
    {
     "name": "stderr",
     "output_type": "stream",
     "text": [
      "[Kss]: Because there's no supported C++ morpheme analyzer, Kss will take pecab as a backend. :D\n",
      "For your information, Kss also supports mecab backend.\n",
      "We recommend you to install mecab or konlpy.tag.Mecab for faster execution of Kss.\n",
      "Please refer to following web sites for details:\n",
      "- mecab: https://cleancode-ws.tistory.com/97\n",
      "- konlpy.tag.Mecab: https://uwgdqo.tistory.com/363\n",
      "\n"
     ]
    },
    {
     "name": "stdout",
     "output_type": "stream",
     "text": [
      "한국어 문장 토큰화 : ['예전에는부동산전세사기가위법한행위임을입증하는것자체가쉽지않았으나요즈음대부분전세사기소송은유죄로판결이나고있고법적조치또한가볍지않은데요전세사기처벌은임대업자가세입자에게계약이끝난후보증금부분에대해돌려줄능력이처음부터있었는지여부를따져서유무죄를판단하게됩니다만약부동산전세사기소송에서혐의가인정된다면최대년이하의징역형또는천만원이하의벌금을부여받게할수있습니다']\n"
     ]
    }
   ],
   "source": [
    "import kss\n",
    "text = '예전에는부동산전세사기가위법한행위임을입증하는것자체가쉽지않았으나요즈음대부분전세사기소송은유죄로판결이나고있고법적조치또한가볍지않은데요전세사기처벌은임대업자가세입자에게계약이끝난후보증금부분에대해돌려줄능력이처음부터있었는지여부를따져서유무죄를판단하게됩니다만약부동산전세사기소송에서혐의가인정된다면최대년이하의징역형또는천만원이하의벌금을부여받게할수있습니다'\n",
    "print('한국어 문장 토큰화 :',kss.split_sentences(text))"
   ]
  },
  {
   "cell_type": "code",
   "execution_count": 9,
   "metadata": {},
   "outputs": [
    {
     "data": {
      "text/plain": [
       "['예전',\n",
       " '부동산',\n",
       " '사기',\n",
       " '위법',\n",
       " '행위',\n",
       " '임',\n",
       " '입증',\n",
       " '것',\n",
       " '자체',\n",
       " '가쉽',\n",
       " '요즈음',\n",
       " '대부분',\n",
       " '전세',\n",
       " '사기',\n",
       " '소송',\n",
       " '유죄',\n",
       " '판결',\n",
       " '이나고',\n",
       " '법적',\n",
       " '조치',\n",
       " '또한',\n",
       " '전세',\n",
       " '사기',\n",
       " '처벌',\n",
       " '임대',\n",
       " '업자',\n",
       " '세입',\n",
       " '계약',\n",
       " '끝',\n",
       " '난후',\n",
       " '보증금',\n",
       " '부분',\n",
       " '대해',\n",
       " '능력',\n",
       " '처음',\n",
       " '여부',\n",
       " '서유',\n",
       " '무죄',\n",
       " '판단',\n",
       " '만약',\n",
       " '부동산',\n",
       " '전세',\n",
       " '사기',\n",
       " '소송',\n",
       " '혐의',\n",
       " '인정',\n",
       " '최대',\n",
       " '년',\n",
       " '이하',\n",
       " '징역형',\n",
       " '천만원',\n",
       " '이하',\n",
       " '벌금',\n",
       " '부여']"
      ]
     },
     "execution_count": 9,
     "metadata": {},
     "output_type": "execute_result"
    }
   ],
   "source": [
    "from konlpy.tag import Okt\n",
    "okt = Okt()\n",
    "okt.nouns(text)"
   ]
  },
  {
   "cell_type": "code",
   "execution_count": 11,
   "metadata": {},
   "outputs": [
    {
     "data": {
      "text/plain": [
       "['예전',\n",
       " '에는',\n",
       " '부동산',\n",
       " '전',\n",
       " '세',\n",
       " '사기',\n",
       " '가',\n",
       " '위법',\n",
       " '한',\n",
       " '행위',\n",
       " '임',\n",
       " '을',\n",
       " '입증',\n",
       " '하',\n",
       " '는',\n",
       " '것',\n",
       " '자체',\n",
       " '가쉽',\n",
       " '지',\n",
       " '않았으나',\n",
       " '요즈음',\n",
       " '대부분',\n",
       " '전세',\n",
       " '사기',\n",
       " '소송',\n",
       " '은',\n",
       " '유죄',\n",
       " '로',\n",
       " '판결',\n",
       " '이나고',\n",
       " '있고',\n",
       " '법적',\n",
       " '조치',\n",
       " '또한',\n",
       " '가볍지',\n",
       " '않은데요',\n",
       " '전세',\n",
       " '사기',\n",
       " '처벌',\n",
       " '은',\n",
       " '임대',\n",
       " '업자',\n",
       " '가',\n",
       " '세입',\n",
       " '자',\n",
       " '에게',\n",
       " '계약',\n",
       " '이',\n",
       " '끝',\n",
       " '난후',\n",
       " '보증금',\n",
       " '부분',\n",
       " '에',\n",
       " '대해',\n",
       " '돌려줄',\n",
       " '능력',\n",
       " '이',\n",
       " '처음',\n",
       " '부터',\n",
       " '있었는지',\n",
       " '여부',\n",
       " '를',\n",
       " '따져',\n",
       " '서유',\n",
       " '무죄',\n",
       " '를',\n",
       " '판단',\n",
       " '하',\n",
       " '게',\n",
       " '됩니다',\n",
       " '만약',\n",
       " '부동산',\n",
       " '전세',\n",
       " '사기',\n",
       " '소송',\n",
       " '에서',\n",
       " '혐의',\n",
       " '가',\n",
       " '인정',\n",
       " '된다면',\n",
       " '최대',\n",
       " '년',\n",
       " '이하',\n",
       " '의',\n",
       " '징역형',\n",
       " '또는',\n",
       " '천만원',\n",
       " '이하',\n",
       " '의',\n",
       " '벌금',\n",
       " '을',\n",
       " '부여',\n",
       " '받게',\n",
       " '할수있습니다']"
      ]
     },
     "execution_count": 11,
     "metadata": {},
     "output_type": "execute_result"
    }
   ],
   "source": [
    "from nltk.tag import pos_tag\n",
    "okt.morphs(text)"
   ]
  },
  {
   "cell_type": "code",
   "execution_count": 13,
   "metadata": {},
   "outputs": [
    {
     "data": {
      "text/plain": [
       "['예전',\n",
       " '에는',\n",
       " '부동산',\n",
       " '전',\n",
       " '세',\n",
       " '사기',\n",
       " '가',\n",
       " '위법',\n",
       " '한',\n",
       " '행위',\n",
       " '임',\n",
       " '을',\n",
       " '입증',\n",
       " '하',\n",
       " '는',\n",
       " '것',\n",
       " '자체',\n",
       " '가쉽',\n",
       " '지',\n",
       " '않다',\n",
       " '요즈음',\n",
       " '대부분',\n",
       " '전세',\n",
       " '사기',\n",
       " '소송',\n",
       " '은',\n",
       " '유죄',\n",
       " '로',\n",
       " '판결',\n",
       " '이나고',\n",
       " '있다',\n",
       " '법적',\n",
       " '조치',\n",
       " '또한',\n",
       " '가볍다',\n",
       " '않다',\n",
       " '전세',\n",
       " '사기',\n",
       " '처벌',\n",
       " '은',\n",
       " '임대',\n",
       " '업자',\n",
       " '가',\n",
       " '세입',\n",
       " '자',\n",
       " '에게',\n",
       " '계약',\n",
       " '이',\n",
       " '끝',\n",
       " '난후',\n",
       " '보증금',\n",
       " '부분',\n",
       " '에',\n",
       " '대해',\n",
       " '돌려주다',\n",
       " '능력',\n",
       " '이',\n",
       " '처음',\n",
       " '부터',\n",
       " '있다',\n",
       " '여부',\n",
       " '를',\n",
       " '따지다',\n",
       " '서유',\n",
       " '무죄',\n",
       " '를',\n",
       " '판단',\n",
       " '하',\n",
       " '게',\n",
       " '되다',\n",
       " '만약',\n",
       " '부동산',\n",
       " '전세',\n",
       " '사기',\n",
       " '소송',\n",
       " '에서',\n",
       " '혐의',\n",
       " '가',\n",
       " '인정',\n",
       " '되다',\n",
       " '최대',\n",
       " '년',\n",
       " '이하',\n",
       " '의',\n",
       " '징역형',\n",
       " '또는',\n",
       " '천만원',\n",
       " '이하',\n",
       " '의',\n",
       " '벌금',\n",
       " '을',\n",
       " '부여',\n",
       " '받다',\n",
       " '하다']"
      ]
     },
     "execution_count": 13,
     "metadata": {},
     "output_type": "execute_result"
    }
   ],
   "source": [
    "okt.morphs(text, stem=True)"
   ]
  },
  {
   "cell_type": "code",
   "execution_count": 14,
   "metadata": {},
   "outputs": [
    {
     "data": {
      "text/plain": [
       "[('예전', 'Noun'),\n",
       " ('에는', 'Josa'),\n",
       " ('부동산', 'Noun'),\n",
       " ('전', 'Modifier'),\n",
       " ('세', 'Modifier'),\n",
       " ('사기', 'Noun'),\n",
       " ('가', 'Josa'),\n",
       " ('위법', 'Noun'),\n",
       " ('한', 'Josa'),\n",
       " ('행위', 'Noun'),\n",
       " ('임', 'Noun'),\n",
       " ('을', 'Josa'),\n",
       " ('입증', 'Noun'),\n",
       " ('하', 'Suffix'),\n",
       " ('는', 'Josa'),\n",
       " ('것', 'Noun'),\n",
       " ('자체', 'Noun'),\n",
       " ('가쉽', 'Noun'),\n",
       " ('지', 'Josa'),\n",
       " ('않았으나', 'Verb'),\n",
       " ('요즈음', 'Noun'),\n",
       " ('대부분', 'Noun'),\n",
       " ('전세', 'Noun'),\n",
       " ('사기', 'Noun'),\n",
       " ('소송', 'Noun'),\n",
       " ('은', 'Josa'),\n",
       " ('유죄', 'Noun'),\n",
       " ('로', 'Josa'),\n",
       " ('판결', 'Noun'),\n",
       " ('이나고', 'Noun'),\n",
       " ('있고', 'Adjective'),\n",
       " ('법적', 'Noun'),\n",
       " ('조치', 'Noun'),\n",
       " ('또한', 'Noun'),\n",
       " ('가볍지', 'Adjective'),\n",
       " ('않은데요', 'Verb'),\n",
       " ('전세', 'Noun'),\n",
       " ('사기', 'Noun'),\n",
       " ('처벌', 'Noun'),\n",
       " ('은', 'Josa'),\n",
       " ('임대', 'Noun'),\n",
       " ('업자', 'Noun'),\n",
       " ('가', 'Josa'),\n",
       " ('세입', 'Noun'),\n",
       " ('자', 'Suffix'),\n",
       " ('에게', 'Josa'),\n",
       " ('계약', 'Noun'),\n",
       " ('이', 'Josa'),\n",
       " ('끝', 'Noun'),\n",
       " ('난후', 'Noun'),\n",
       " ('보증금', 'Noun'),\n",
       " ('부분', 'Noun'),\n",
       " ('에', 'Josa'),\n",
       " ('대해', 'Noun'),\n",
       " ('돌려줄', 'Verb'),\n",
       " ('능력', 'Noun'),\n",
       " ('이', 'Josa'),\n",
       " ('처음', 'Noun'),\n",
       " ('부터', 'Josa'),\n",
       " ('있었는지', 'Adjective'),\n",
       " ('여부', 'Noun'),\n",
       " ('를', 'Josa'),\n",
       " ('따져', 'Verb'),\n",
       " ('서유', 'Noun'),\n",
       " ('무죄', 'Noun'),\n",
       " ('를', 'Josa'),\n",
       " ('판단', 'Noun'),\n",
       " ('하', 'Suffix'),\n",
       " ('게', 'Josa'),\n",
       " ('됩니다', 'Verb'),\n",
       " ('만약', 'Noun'),\n",
       " ('부동산', 'Noun'),\n",
       " ('전세', 'Noun'),\n",
       " ('사기', 'Noun'),\n",
       " ('소송', 'Noun'),\n",
       " ('에서', 'Josa'),\n",
       " ('혐의', 'Noun'),\n",
       " ('가', 'Josa'),\n",
       " ('인정', 'Noun'),\n",
       " ('된다면', 'Verb'),\n",
       " ('최대', 'Noun'),\n",
       " ('년', 'Noun'),\n",
       " ('이하', 'Noun'),\n",
       " ('의', 'Josa'),\n",
       " ('징역형', 'Noun'),\n",
       " ('또는', 'Adverb'),\n",
       " ('천만원', 'Noun'),\n",
       " ('이하', 'Noun'),\n",
       " ('의', 'Josa'),\n",
       " ('벌금', 'Noun'),\n",
       " ('을', 'Josa'),\n",
       " ('부여', 'Noun'),\n",
       " ('받게', 'Verb'),\n",
       " ('할수있습니다', 'Verb')]"
      ]
     },
     "execution_count": 14,
     "metadata": {},
     "output_type": "execute_result"
    }
   ],
   "source": [
    "okt.pos(text)"
   ]
  },
  {
   "cell_type": "code",
   "execution_count": 15,
   "metadata": {},
   "outputs": [
    {
     "data": {
      "text/plain": [
       "['예전',\n",
       " '부동산',\n",
       " '사기',\n",
       " '위법',\n",
       " '행위',\n",
       " '임',\n",
       " '입증',\n",
       " '것',\n",
       " '자체',\n",
       " '가쉽',\n",
       " '요즈음',\n",
       " '대부분',\n",
       " '전세',\n",
       " '사기',\n",
       " '소송',\n",
       " '유죄',\n",
       " '판결',\n",
       " '이나고',\n",
       " '법적',\n",
       " '조치',\n",
       " '또한',\n",
       " '전세',\n",
       " '사기',\n",
       " '처벌',\n",
       " '임대',\n",
       " '업자',\n",
       " '세입',\n",
       " '계약',\n",
       " '끝',\n",
       " '난후',\n",
       " '보증금',\n",
       " '부분',\n",
       " '대해',\n",
       " '능력',\n",
       " '처음',\n",
       " '여부',\n",
       " '서유',\n",
       " '무죄',\n",
       " '판단',\n",
       " '만약',\n",
       " '부동산',\n",
       " '전세',\n",
       " '사기',\n",
       " '소송',\n",
       " '혐의',\n",
       " '인정',\n",
       " '최대',\n",
       " '년',\n",
       " '이하',\n",
       " '징역형',\n",
       " '천만원',\n",
       " '이하',\n",
       " '벌금',\n",
       " '부여']"
      ]
     },
     "execution_count": 15,
     "metadata": {},
     "output_type": "execute_result"
    }
   ],
   "source": [
    "okt.nouns(text)"
   ]
  },
  {
   "cell_type": "code",
   "execution_count": 20,
   "metadata": {},
   "outputs": [
    {
     "name": "stderr",
     "output_type": "stream",
     "text": [
      "[nltk_data] Downloading package wordnet to\n",
      "[nltk_data]     C:\\Users\\human\\AppData\\Roaming\\nltk_data...\n",
      "[nltk_data] Downloading package omw-1.4 to\n",
      "[nltk_data]     C:\\Users\\human\\AppData\\Roaming\\nltk_data...\n"
     ]
    },
    {
     "data": {
      "text/plain": [
       "True"
      ]
     },
     "execution_count": 20,
     "metadata": {},
     "output_type": "execute_result"
    }
   ],
   "source": [
    "import nltk\n",
    "nltk.download('wordnet')\n",
    "nltk.download('omw-1.4')"
   ]
  },
  {
   "cell_type": "code",
   "execution_count": 27,
   "metadata": {},
   "outputs": [
    {
     "name": "stdout",
     "output_type": "stream",
     "text": [
      "표제어 추출 전 : [('예전', 'Noun'), ('에는', 'Josa'), ('부동산', 'Noun'), ('전', 'Modifier'), ('세', 'Modifier'), ('사기', 'Noun'), ('가', 'Josa'), ('위법', 'Noun'), ('한', 'Josa'), ('행위', 'Noun'), ('임', 'Noun'), ('을', 'Josa'), ('입증', 'Noun'), ('하', 'Suffix'), ('는', 'Josa'), ('것', 'Noun'), ('자체', 'Noun'), ('가쉽', 'Noun'), ('지', 'Josa'), ('않았으나', 'Verb'), ('요즈음', 'Noun'), ('대부분', 'Noun'), ('전세', 'Noun'), ('사기', 'Noun'), ('소송', 'Noun'), ('은', 'Josa'), ('유죄', 'Noun'), ('로', 'Josa'), ('판결', 'Noun'), ('이나고', 'Noun'), ('있고', 'Adjective'), ('법적', 'Noun'), ('조치', 'Noun'), ('또한', 'Noun'), ('가볍지', 'Adjective'), ('않은데요', 'Verb'), ('전세', 'Noun'), ('사기', 'Noun'), ('처벌', 'Noun'), ('은', 'Josa'), ('임대', 'Noun'), ('업자', 'Noun'), ('가', 'Josa'), ('세입', 'Noun'), ('자', 'Suffix'), ('에게', 'Josa'), ('계약', 'Noun'), ('이', 'Josa'), ('끝', 'Noun'), ('난후', 'Noun'), ('보증금', 'Noun'), ('부분', 'Noun'), ('에', 'Josa'), ('대해', 'Noun'), ('돌려줄', 'Verb'), ('능력', 'Noun'), ('이', 'Josa'), ('처음', 'Noun'), ('부터', 'Josa'), ('있었는지', 'Adjective'), ('여부', 'Noun'), ('를', 'Josa'), ('따져', 'Verb'), ('서유', 'Noun'), ('무죄', 'Noun'), ('를', 'Josa'), ('판단', 'Noun'), ('하', 'Suffix'), ('게', 'Josa'), ('됩니다', 'Verb'), ('만약', 'Noun'), ('부동산', 'Noun'), ('전세', 'Noun'), ('사기', 'Noun'), ('소송', 'Noun'), ('에서', 'Josa'), ('혐의', 'Noun'), ('가', 'Josa'), ('인정', 'Noun'), ('된다면', 'Verb'), ('최대', 'Noun'), ('년', 'Noun'), ('이하', 'Noun'), ('의', 'Josa'), ('징역형', 'Noun'), ('또는', 'Adverb'), ('천만원', 'Noun'), ('이하', 'Noun'), ('의', 'Josa'), ('벌금', 'Noun'), ('을', 'Josa'), ('부여', 'Noun'), ('받게', 'Verb'), ('할수있습니다', 'Verb')]\n"
     ]
    },
    {
     "ename": "AttributeError",
     "evalue": "'tuple' object has no attribute 'endswith'",
     "output_type": "error",
     "traceback": [
      "\u001b[1;31m---------------------------------------------------------------------------\u001b[0m",
      "\u001b[1;31mAttributeError\u001b[0m                            Traceback (most recent call last)",
      "\u001b[1;32md:\\WorkSpace\\ChatbotProject-2023.10\\01.부동산전세토큰화.ipynb 셀 10\u001b[0m line \u001b[0;36m9\n\u001b[0;32m      <a href='vscode-notebook-cell:/d%3A/WorkSpace/ChatbotProject-2023.10/01.%EB%B6%80%EB%8F%99%EC%82%B0%EC%A0%84%EC%84%B8%ED%86%A0%ED%81%B0%ED%99%94.ipynb#X13sZmlsZQ%3D%3D?line=4'>5</a>\u001b[0m words \u001b[39m=\u001b[39m okt\u001b[39m.\u001b[39mpos(\u001b[39m'\u001b[39m\u001b[39m예전에는부동산전세사기가위법한행위임을입증하는것자체가쉽지않았으나요즈음대부분전세사기소송은유죄로판결이나고있고법적조치또한가볍지않은데요전세사기처벌은임대업자가세입자에게계약이끝난후보증금부분에대해돌려줄능력이처음부터있었는지여부를따져서유무죄를판단하게됩니다만약부동산전세사기소송에서혐의가인정된다면최대년이하의징역형또는천만원이하의벌금을부여받게할수있습니다\u001b[39m\u001b[39m'\u001b[39m\n\u001b[0;32m      <a href='vscode-notebook-cell:/d%3A/WorkSpace/ChatbotProject-2023.10/01.%EB%B6%80%EB%8F%99%EC%82%B0%EC%A0%84%EC%84%B8%ED%86%A0%ED%81%B0%ED%99%94.ipynb#X13sZmlsZQ%3D%3D?line=5'>6</a>\u001b[0m )\n\u001b[0;32m      <a href='vscode-notebook-cell:/d%3A/WorkSpace/ChatbotProject-2023.10/01.%EB%B6%80%EB%8F%99%EC%82%B0%EC%A0%84%EC%84%B8%ED%86%A0%ED%81%B0%ED%99%94.ipynb#X13sZmlsZQ%3D%3D?line=7'>8</a>\u001b[0m \u001b[39mprint\u001b[39m(\u001b[39m'\u001b[39m\u001b[39m표제어 추출 전 :\u001b[39m\u001b[39m'\u001b[39m,words)\n\u001b[1;32m----> <a href='vscode-notebook-cell:/d%3A/WorkSpace/ChatbotProject-2023.10/01.%EB%B6%80%EB%8F%99%EC%82%B0%EC%A0%84%EC%84%B8%ED%86%A0%ED%81%B0%ED%99%94.ipynb#X13sZmlsZQ%3D%3D?line=8'>9</a>\u001b[0m \u001b[39mprint\u001b[39m(\u001b[39m'\u001b[39m\u001b[39m표제어 추출 후 :\u001b[39m\u001b[39m'\u001b[39m,[lemmatizer\u001b[39m.\u001b[39mlemmatize(word) \u001b[39mfor\u001b[39;00m word \u001b[39min\u001b[39;00m words])\n",
      "\u001b[1;32md:\\WorkSpace\\ChatbotProject-2023.10\\01.부동산전세토큰화.ipynb 셀 10\u001b[0m line \u001b[0;36m9\n\u001b[0;32m      <a href='vscode-notebook-cell:/d%3A/WorkSpace/ChatbotProject-2023.10/01.%EB%B6%80%EB%8F%99%EC%82%B0%EC%A0%84%EC%84%B8%ED%86%A0%ED%81%B0%ED%99%94.ipynb#X13sZmlsZQ%3D%3D?line=4'>5</a>\u001b[0m words \u001b[39m=\u001b[39m okt\u001b[39m.\u001b[39mpos(\u001b[39m'\u001b[39m\u001b[39m예전에는부동산전세사기가위법한행위임을입증하는것자체가쉽지않았으나요즈음대부분전세사기소송은유죄로판결이나고있고법적조치또한가볍지않은데요전세사기처벌은임대업자가세입자에게계약이끝난후보증금부분에대해돌려줄능력이처음부터있었는지여부를따져서유무죄를판단하게됩니다만약부동산전세사기소송에서혐의가인정된다면최대년이하의징역형또는천만원이하의벌금을부여받게할수있습니다\u001b[39m\u001b[39m'\u001b[39m\n\u001b[0;32m      <a href='vscode-notebook-cell:/d%3A/WorkSpace/ChatbotProject-2023.10/01.%EB%B6%80%EB%8F%99%EC%82%B0%EC%A0%84%EC%84%B8%ED%86%A0%ED%81%B0%ED%99%94.ipynb#X13sZmlsZQ%3D%3D?line=5'>6</a>\u001b[0m )\n\u001b[0;32m      <a href='vscode-notebook-cell:/d%3A/WorkSpace/ChatbotProject-2023.10/01.%EB%B6%80%EB%8F%99%EC%82%B0%EC%A0%84%EC%84%B8%ED%86%A0%ED%81%B0%ED%99%94.ipynb#X13sZmlsZQ%3D%3D?line=7'>8</a>\u001b[0m \u001b[39mprint\u001b[39m(\u001b[39m'\u001b[39m\u001b[39m표제어 추출 전 :\u001b[39m\u001b[39m'\u001b[39m,words)\n\u001b[1;32m----> <a href='vscode-notebook-cell:/d%3A/WorkSpace/ChatbotProject-2023.10/01.%EB%B6%80%EB%8F%99%EC%82%B0%EC%A0%84%EC%84%B8%ED%86%A0%ED%81%B0%ED%99%94.ipynb#X13sZmlsZQ%3D%3D?line=8'>9</a>\u001b[0m \u001b[39mprint\u001b[39m(\u001b[39m'\u001b[39m\u001b[39m표제어 추출 후 :\u001b[39m\u001b[39m'\u001b[39m,[lemmatizer\u001b[39m.\u001b[39mlemmatize(word) \u001b[39mfor\u001b[39;00m word \u001b[39min\u001b[39;00m words])\n",
      "File \u001b[1;32mc:\\Users\\human\\anaconda3\\Lib\\site-packages\\nltk\\stem\\wordnet.py:45\u001b[0m, in \u001b[0;36mWordNetLemmatizer.lemmatize\u001b[1;34m(self, word, pos)\u001b[0m\n\u001b[0;32m     33\u001b[0m \u001b[39mdef\u001b[39;00m \u001b[39mlemmatize\u001b[39m(\u001b[39mself\u001b[39m, word: \u001b[39mstr\u001b[39m, pos: \u001b[39mstr\u001b[39m \u001b[39m=\u001b[39m \u001b[39m\"\u001b[39m\u001b[39mn\u001b[39m\u001b[39m\"\u001b[39m) \u001b[39m-\u001b[39m\u001b[39m>\u001b[39m \u001b[39mstr\u001b[39m:\n\u001b[0;32m     34\u001b[0m \u001b[39m    \u001b[39m\u001b[39m\"\"\"Lemmatize `word` using WordNet's built-in morphy function.\u001b[39;00m\n\u001b[0;32m     35\u001b[0m \u001b[39m    Returns the input word unchanged if it cannot be found in WordNet.\u001b[39;00m\n\u001b[0;32m     36\u001b[0m \n\u001b[1;32m   (...)\u001b[0m\n\u001b[0;32m     43\u001b[0m \u001b[39m    :return: The lemma of `word`, for the given `pos`.\u001b[39;00m\n\u001b[0;32m     44\u001b[0m \u001b[39m    \"\"\"\u001b[39;00m\n\u001b[1;32m---> 45\u001b[0m     lemmas \u001b[39m=\u001b[39m wn\u001b[39m.\u001b[39m_morphy(word, pos)\n\u001b[0;32m     46\u001b[0m     \u001b[39mreturn\u001b[39;00m \u001b[39mmin\u001b[39m(lemmas, key\u001b[39m=\u001b[39m\u001b[39mlen\u001b[39m) \u001b[39mif\u001b[39;00m lemmas \u001b[39melse\u001b[39;00m word\n",
      "File \u001b[1;32mc:\\Users\\human\\anaconda3\\Lib\\site-packages\\nltk\\corpus\\reader\\wordnet.py:2100\u001b[0m, in \u001b[0;36mWordNetCorpusReader._morphy\u001b[1;34m(self, form, pos, check_exceptions)\u001b[0m\n\u001b[0;32m   2097\u001b[0m         \u001b[39mreturn\u001b[39;00m filter_forms([form] \u001b[39m+\u001b[39m exceptions[form])\n\u001b[0;32m   2099\u001b[0m \u001b[39m# 1. Apply rules once to the input to get y1, y2, y3, etc.\u001b[39;00m\n\u001b[1;32m-> 2100\u001b[0m forms \u001b[39m=\u001b[39m apply_rules([form])\n\u001b[0;32m   2102\u001b[0m \u001b[39m# 2. Return all that are in the database (and check the original too)\u001b[39;00m\n\u001b[0;32m   2103\u001b[0m results \u001b[39m=\u001b[39m filter_forms([form] \u001b[39m+\u001b[39m forms)\n",
      "File \u001b[1;32mc:\\Users\\human\\anaconda3\\Lib\\site-packages\\nltk\\corpus\\reader\\wordnet.py:2076\u001b[0m, in \u001b[0;36mWordNetCorpusReader._morphy.<locals>.apply_rules\u001b[1;34m(forms)\u001b[0m\n\u001b[0;32m   2075\u001b[0m \u001b[39mdef\u001b[39;00m \u001b[39mapply_rules\u001b[39m(forms):\n\u001b[1;32m-> 2076\u001b[0m     \u001b[39mreturn\u001b[39;00m [\n\u001b[0;32m   2077\u001b[0m         form[: \u001b[39m-\u001b[39m\u001b[39mlen\u001b[39m(old)] \u001b[39m+\u001b[39m new\n\u001b[0;32m   2078\u001b[0m         \u001b[39mfor\u001b[39;00m form \u001b[39min\u001b[39;00m forms\n\u001b[0;32m   2079\u001b[0m         \u001b[39mfor\u001b[39;00m old, new \u001b[39min\u001b[39;00m substitutions\n\u001b[0;32m   2080\u001b[0m         \u001b[39mif\u001b[39;00m form\u001b[39m.\u001b[39mendswith(old)\n\u001b[0;32m   2081\u001b[0m     ]\n",
      "File \u001b[1;32mc:\\Users\\human\\anaconda3\\Lib\\site-packages\\nltk\\corpus\\reader\\wordnet.py:2080\u001b[0m, in \u001b[0;36m<listcomp>\u001b[1;34m(.0)\u001b[0m\n\u001b[0;32m   2075\u001b[0m \u001b[39mdef\u001b[39;00m \u001b[39mapply_rules\u001b[39m(forms):\n\u001b[0;32m   2076\u001b[0m     \u001b[39mreturn\u001b[39;00m [\n\u001b[0;32m   2077\u001b[0m         form[: \u001b[39m-\u001b[39m\u001b[39mlen\u001b[39m(old)] \u001b[39m+\u001b[39m new\n\u001b[0;32m   2078\u001b[0m         \u001b[39mfor\u001b[39;00m form \u001b[39min\u001b[39;00m forms\n\u001b[0;32m   2079\u001b[0m         \u001b[39mfor\u001b[39;00m old, new \u001b[39min\u001b[39;00m substitutions\n\u001b[1;32m-> 2080\u001b[0m         \u001b[39mif\u001b[39;00m form\u001b[39m.\u001b[39mendswith(old)\n\u001b[0;32m   2081\u001b[0m     ]\n",
      "\u001b[1;31mAttributeError\u001b[0m: 'tuple' object has no attribute 'endswith'"
     ]
    }
   ],
   "source": [
    "from nltk.stem import WordNetLemmatizer\n",
    "\n",
    "lemmatizer = WordNetLemmatizer()\n",
    "\n",
    "words = okt.pos('예전에는부동산전세사기가위법한행위임을입증하는것자체가쉽지않았으나요즈음대부분전세사기소송은유죄로판결이나고있고법적조치또한가볍지않은데요전세사기처벌은임대업자가세입자에게계약이끝난후보증금부분에대해돌려줄능력이처음부터있었는지여부를따져서유무죄를판단하게됩니다만약부동산전세사기소송에서혐의가인정된다면최대년이하의징역형또는천만원이하의벌금을부여받게할수있습니다'\n",
    ")\n",
    "\n",
    "print('표제어 추출 전 :',words)\n",
    "print('표제어 추출 후 :',[lemmatizer.lemmatize(word) for word in words])"
   ]
  },
  {
   "cell_type": "code",
   "execution_count": 16,
   "metadata": {},
   "outputs": [
    {
     "name": "stdout",
     "output_type": "stream",
     "text": [
      "어간 추출 전 : ['예전에는부동산전세사기가위법한행위임을입증하는것자체가쉽지않았으나요즈음대부분전세사기소송은유죄로판결이나고있고법적조치또한가볍지않은데요전세사기처벌은임대업자가세입자에게계약이끝난후보증금부분에대해돌려줄능력이처음부터있었는지여부를따져서유무죄를판단하게됩니다만약부동산전세사기소송에서혐의가인정된다면최대년이하의징역형또는천만원이하의벌금을부여받게할수있습니다']\n",
      "어간 추출 후 : ['예전에는부동산전세사기가위법한행위임을입증하는것자체가쉽지않았으나요즈음대부분전세사기소송은유죄로판결이나고있고법적조치또한가볍지않은데요전세사기처벌은임대업자가세입자에게계약이끝난후보증금부분에대해돌려줄능력이처음부터있었는지여부를따져서유무죄를판단하게됩니다만약부동산전세사기소송에서혐의가인정된다면최대년이하의징역형또는천만원이하의벌금을부여받게할수있습니다']\n"
     ]
    }
   ],
   "source": [
    "from nltk.stem import PorterStemmer\n",
    "from nltk.tokenize import word_tokenize\n",
    "\n",
    "stemmer = PorterStemmer()\n",
    "\n",
    "sentence = text\n",
    "tokenized_sentence = word_tokenize(sentence)\n",
    "\n",
    "print('어간 추출 전 :', tokenized_sentence)\n",
    "print('어간 추출 후 :',[stemmer.stem(word) for word in tokenized_sentence])"
   ]
  },
  {
   "cell_type": "code",
   "execution_count": 28,
   "metadata": {},
   "outputs": [
    {
     "ename": "ModuleNotFoundError",
     "evalue": "No module named 'spacy'",
     "output_type": "error",
     "traceback": [
      "\u001b[1;31m---------------------------------------------------------------------------\u001b[0m",
      "\u001b[1;31mModuleNotFoundError\u001b[0m                       Traceback (most recent call last)",
      "\u001b[1;32md:\\WorkSpace\\ChatbotProject-2023.10\\01.부동산전세토큰화.ipynb 셀 12\u001b[0m line \u001b[0;36m1\n\u001b[1;32m----> <a href='vscode-notebook-cell:/d%3A/WorkSpace/ChatbotProject-2023.10/01.%EB%B6%80%EB%8F%99%EC%82%B0%EC%A0%84%EC%84%B8%ED%86%A0%ED%81%B0%ED%99%94.ipynb#X15sZmlsZQ%3D%3D?line=0'>1</a>\u001b[0m \u001b[39mimport\u001b[39;00m \u001b[39mspacy\u001b[39;00m\n\u001b[0;32m      <a href='vscode-notebook-cell:/d%3A/WorkSpace/ChatbotProject-2023.10/01.%EB%B6%80%EB%8F%99%EC%82%B0%EC%A0%84%EC%84%B8%ED%86%A0%ED%81%B0%ED%99%94.ipynb#X15sZmlsZQ%3D%3D?line=2'>3</a>\u001b[0m nlp \u001b[39m=\u001b[39m spacy\u001b[39m.\u001b[39mload(\u001b[39m\"\u001b[39m\u001b[39mko_core_news_sm\u001b[39m\u001b[39m\"\u001b[39m)  \u001b[39m# 한국어 모델 로드\u001b[39;00m\n\u001b[0;32m      <a href='vscode-notebook-cell:/d%3A/WorkSpace/ChatbotProject-2023.10/01.%EB%B6%80%EB%8F%99%EC%82%B0%EC%A0%84%EC%84%B8%ED%86%A0%ED%81%B0%ED%99%94.ipynb#X15sZmlsZQ%3D%3D?line=4'>5</a>\u001b[0m text \u001b[39m=\u001b[39m \u001b[39m\"\u001b[39m\u001b[39m예전에는 부동산 전세 사기가 위법한 행위임을 입증하는 것 자체가 쉽지 않았으나...\u001b[39m\u001b[39m\"\u001b[39m\n",
      "\u001b[1;31mModuleNotFoundError\u001b[0m: No module named 'spacy'"
     ]
    }
   ],
   "source": [
    "import spacy\n",
    "\n",
    "nlp = spacy.load(\"ko_core_news_sm\")  # 한국어 모델 로드\n",
    "\n",
    "text = \"예전에는 부동산 전세 사기가 위법한 행위임을 입증하는 것 자체가 쉽지 않았으나...\"\n",
    "doc = nlp(text)\n",
    "tokens = [token.text for token in doc]\n",
    "print(tokens)"
   ]
  },
  {
   "cell_type": "code",
   "execution_count": 19,
   "metadata": {},
   "outputs": [],
   "source": [
    "# 불용어 처리\n",
    "with open('data/한글불용어100.txt') as st:\n",
    "    lines = st.readlines()\n",
    "stop_words = [line.split('\\t')[0] for line in lines]"
   ]
  },
  {
   "cell_type": "code",
   "execution_count": 20,
   "metadata": {},
   "outputs": [],
   "source": [
    "from konlpy.tag import Okt\n",
    "okt = Okt()"
   ]
  },
  {
   "cell_type": "code",
   "execution_count": 23,
   "metadata": {},
   "outputs": [
    {
     "name": "stderr",
     "output_type": "stream",
     "text": [
      "100%|██████████| 360/360 [10:12<00:00,  1.70s/it]\n"
     ]
    }
   ],
   "source": [
    "from tqdm import tqdm\n",
    "answer = []\n",
    "for review in tqdm(df.답변):\n",
    "    morphs = okt.morphs(review, stem=True)\n",
    "    clean_morph_review = ' '.join([morph for morph in morphs if morph not in stop_words])\n",
    "    answer.append(clean_morph_review)"
   ]
  },
  {
   "cell_type": "code",
   "execution_count": 22,
   "metadata": {},
   "outputs": [
    {
     "name": "stderr",
     "output_type": "stream",
     "text": [
      "100%|██████████| 360/360 [00:06<00:00, 54.18it/s]\n"
     ]
    }
   ],
   "source": [
    "question = []\n",
    "for review in tqdm(df.질문):\n",
    "    morphs = okt.morphs(review, stem=True)\n",
    "    clean_morph_review = ' '.join([morph for morph in morphs if morph not in stop_words])\n",
    "    question.append(clean_morph_review)"
   ]
  },
  {
   "cell_type": "code",
   "execution_count": 8,
   "metadata": {},
   "outputs": [
    {
     "data": {
      "text/plain": [
       "['최근',\n",
       " '세입',\n",
       " '자',\n",
       " '들의',\n",
       " '소중한',\n",
       " '보증금',\n",
       " '떼어',\n",
       " '먹는전세',\n",
       " '사기',\n",
       " '가',\n",
       " '기승',\n",
       " '부리고',\n",
       " '있어세',\n",
       " '입자',\n",
       " '들',\n",
       " '의',\n",
       " '각별',\n",
       " '한',\n",
       " '주의',\n",
       " '가',\n",
       " '필요한',\n",
       " '상황',\n",
       " '입니다하지만',\n",
       " '아무리',\n",
       " '조심한다고',\n",
       " '하더라도',\n",
       " '전세',\n",
       " '사',\n",
       " '기수법',\n",
       " '이',\n",
       " '워낙',\n",
       " '교묘하여',\n",
       " '눈뜨고',\n",
       " '코베',\n",
       " '이',\n",
       " '는',\n",
       " '식',\n",
       " '전세',\n",
       " '사기',\n",
       " '를',\n",
       " '당하는',\n",
       " '경우',\n",
       " '가',\n",
       " '허다',\n",
       " '합니다',\n",
       " '전',\n",
       " '세',\n",
       " '사',\n",
       " '기',\n",
       " '사건',\n",
       " '에',\n",
       " '휘',\n",
       " '말리',\n",
       " '게',\n",
       " '되었을',\n",
       " '경우',\n",
       " '신속한',\n",
       " '법적',\n",
       " '조치',\n",
       " '로',\n",
       " '피해',\n",
       " '회복',\n",
       " '도모',\n",
       " '하셔',\n",
       " '야합',\n",
       " '니',\n",
       " '다',\n",
       " '전세',\n",
       " '사기',\n",
       " '사건',\n",
       " '에',\n",
       " '대응',\n",
       " '하',\n",
       " '는',\n",
       " '방법',\n",
       " '으로는',\n",
       " '형사고소',\n",
       " '보증금',\n",
       " '반환',\n",
       " '청구',\n",
       " '소송',\n",
       " '채권',\n",
       " '추심',\n",
       " '이',\n",
       " '있습니다',\n",
       " '문의',\n",
       " '하신',\n",
       " '내용',\n",
       " '이불',\n",
       " '분명하여',\n",
       " '일반',\n",
       " '론',\n",
       " '적',\n",
       " '인',\n",
       " '답변',\n",
       " '밖에',\n",
       " '드릴',\n",
       " '수가',\n",
       " '없는데전세',\n",
       " '사기피해',\n",
       " '회복',\n",
       " '방법',\n",
       " '이',\n",
       " '궁금하시다면',\n",
       " '아래',\n",
       " '블로그',\n",
       " '글',\n",
       " '참고하시면',\n",
       " '도움',\n",
       " '이',\n",
       " '되실것',\n",
       " '대치동',\n",
       " '부동산',\n",
       " '전문',\n",
       " '빌라',\n",
       " '오피스텔',\n",
       " '전세',\n",
       " '사기',\n",
       " '보증금',\n",
       " '반환받을수있을까',\n",
       " '빌라',\n",
       " '오피스텔',\n",
       " '전세',\n",
       " '사기',\n",
       " '보증금',\n",
       " '반환',\n",
       " '깡통',\n",
       " '전세',\n",
       " '전세',\n",
       " '사기',\n",
       " '사건',\n",
       " '에',\n",
       " '휘',\n",
       " '말려',\n",
       " '소중한',\n",
       " '보증금',\n",
       " '잃게',\n",
       " '될까봐',\n",
       " '노심']"
      ]
     },
     "execution_count": 8,
     "metadata": {},
     "output_type": "execute_result"
    }
   ],
   "source": [
    "[word for word in word_tokens if word.lower() not in stop_words]"
   ]
  },
  {
   "cell_type": "code",
   "execution_count": null,
   "metadata": {},
   "outputs": [],
   "source": []
  }
 ],
 "metadata": {
  "kernelspec": {
   "display_name": "base",
   "language": "python",
   "name": "python3"
  },
  "language_info": {
   "codemirror_mode": {
    "name": "ipython",
    "version": 3
   },
   "file_extension": ".py",
   "mimetype": "text/x-python",
   "name": "python",
   "nbconvert_exporter": "python",
   "pygments_lexer": "ipython3",
   "version": "3.11.4"
  }
 },
 "nbformat": 4,
 "nbformat_minor": 2
}
