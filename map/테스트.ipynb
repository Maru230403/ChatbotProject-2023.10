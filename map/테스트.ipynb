{
 "cells": [
  {
   "cell_type": "code",
   "execution_count": 3,
   "metadata": {},
   "outputs": [],
   "source": [
    "import requests, json, os, folium\n",
    "import numpy as np\n",
    "import pandas as pd\n",
    "from urllib.parse import quote\n",
    "\n",
    "# CSV 파일에서 데이터 읽기\n",
    "data = pd.read_csv('data/서울부동산.csv')  # CSV 파일 이름을 적절하게 변경하세요\n",
    "\n",
    "# 지도 초기화\n",
    "m = folium.Map(location=[data['위도'].mean(), data['경도'].mean()], zoom_start=10)\n",
    "\n",
    "# CSV 파일의 각 행을 반복하며 지도에 마커 추가\n",
    "for index, row in data.iterrows():\n",
    "    folium.Marker(location=[row['위도'], row['경도']], popup=row['CMP_NM']).add_to(m)\n",
    "\n",
    "# 지도를 HTML 파일로 저장\n",
    "m.save('img/map1.html')\n",
    "\n",
    "# HTML 파일을 웹 브라우저로 열거나 웹 애플리케이션에 통합할 수 있습니다.\n",
    "\n",
    "# map 그리기\n",
    "map = folium.Map(location=[data.위도.mean(), data.경도.mean()], zoom_start=14)  # Center position\n",
    "for i in data.index:\n",
    "    folium.Marker(\n",
    "        location=[data.위도[i], data.경도[i]],       \n",
    "        tooltip=data.CMP_NM[i],\n",
    "        popup=folium.Popup(data.ADDRESS[i], max_width=200)\n",
    "    ).add_to(map)   "
   ]
  },
  {
   "cell_type": "code",
   "execution_count": null,
   "metadata": {},
   "outputs": [],
   "source": []
  }
 ],
 "metadata": {
  "kernelspec": {
   "display_name": "base",
   "language": "python",
   "name": "python3"
  },
  "language_info": {
   "codemirror_mode": {
    "name": "ipython",
    "version": 3
   },
   "file_extension": ".py",
   "mimetype": "text/x-python",
   "name": "python",
   "nbconvert_exporter": "python",
   "pygments_lexer": "ipython3",
   "version": "3.11.4"
  }
 },
 "nbformat": 4,
 "nbformat_minor": 2
}
