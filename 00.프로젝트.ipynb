{
 "cells": [
  {
   "cell_type": "markdown",
   "metadata": {},
   "source": [
    "- 1차 프로젝트(chat bot 10일간)\n",
    "- 주제:(금융(ex - 교외장학금), 부동산(ex - 청약), 법률(ex- ))\n",
    "    - 10월 18일(수) 5교시\n",
    "    - 10월 19일(목) 계획안 초안\n",
    "    - 10월 20일(금) 계획안 발표\n",
    "    - 11월 1일(수) 4교시(오전에 발표)\n",
    "        - 카카오톡에 챗봇 빌드업이 있음(승인기간 오래걸림)"
   ]
  },
  {
   "cell_type": "markdown",
   "metadata": {},
   "source": [
    "20231018\n",
    "- 팀구성 및 주제선정"
   ]
  },
  {
   "cell_type": "markdown",
   "metadata": {},
   "source": [
    "20231019\n",
    "- 역할 배분\n",
    "- 크롤링으로 데이터 수집\n",
    "- 수집한 데이터 인베딩"
   ]
  },
  {
   "cell_type": "markdown",
   "metadata": {},
   "source": [
    "20231020 \n",
    "- 초안 발표\n",
    "- 수집한 데이터 정제처리--> 토큰화 --> 학습"
   ]
  },
  {
   "cell_type": "markdown",
   "metadata": {},
   "source": []
  },
  {
   "cell_type": "code",
   "execution_count": null,
   "metadata": {},
   "outputs": [],
   "source": []
  }
 ],
 "metadata": {
  "kernelspec": {
   "display_name": "base",
   "language": "python",
   "name": "python3"
  },
  "language_info": {
   "name": "python",
   "version": "3.11.4"
  }
 },
 "nbformat": 4,
 "nbformat_minor": 2
}
